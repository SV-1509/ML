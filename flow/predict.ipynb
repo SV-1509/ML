{
 "cells": [
  {
   "cell_type": "code",
   "execution_count": 1,
   "metadata": {},
   "outputs": [],
   "source": [
    "from joblib import load\n",
    "import random\n",
    "import csv\n",
    "import pandas as pd"
   ]
  },
  {
   "cell_type": "code",
   "execution_count": 2,
   "metadata": {},
   "outputs": [],
   "source": [
    "model_flow=load(\"flow.joblib\")\n",
    "model_stability=load(\"stability.joblib\")"
   ]
  },
  {
   "cell_type": "code",
   "execution_count": 3,
   "metadata": {},
   "outputs": [],
   "source": [
    "def inputs():\n",
    "    a=[100,100,100,100,100]\n",
    "    b=random.uniform(80,100)\n",
    "    a.append(b)\n",
    "    b=random.uniform(40,60)\n",
    "    a.append(b)\n",
    "    b=random.uniform(30,40)\n",
    "    a.append(b)\n",
    "    penetration=67\n",
    "    softening=52\n",
    "    ductility=77\n",
    "    a.append(penetration)\n",
    "    a.append(softening)\n",
    "    a.append(ductility)\n",
    "    bitumen=5\n",
    "    a.append(bitumen)\n",
    "    for i in range(20):\n",
    "        bitumen+=0.5\n",
    "        a.pop()\n",
    "        a.append(bitumen)\n",
    "        writer.writerow(a)"
   ]
  },
  {
   "cell_type": "code",
   "execution_count": 4,
   "metadata": {},
   "outputs": [],
   "source": [
    "with open('predictions.csv', 'w', newline='') as file:\n",
    "    writer = csv.writer(file)\n",
    "    writer.writerow([\"A16\",\"B12.5\",\"C9.5\",\"D4.75\",\"E2.36\",\"F0.6\",\"G0.212\",\"H0.075\",\"Penetration\",\"Softening point\",\"Ductility\",\"% of Bitumen\",])\n",
    "    for i in range(5):\n",
    "        inputs()"
   ]
  },
  {
   "cell_type": "code",
   "execution_count": 5,
   "metadata": {},
   "outputs": [],
   "source": [
    "data = pd.read_csv(\"predictions.csv\") "
   ]
  },
  {
   "cell_type": "code",
   "execution_count": 6,
   "metadata": {},
   "outputs": [],
   "source": [
    "x_stability = pd.DataFrame(data=data ,columns=[\"D4.75\",\"E2.36\",\"F0.6\",\"G0.212\",\"% of Bitumen\"])\n",
    "x_flow = pd.DataFrame(data=data ,columns=[\"B12.5\",\"C9.5\",\"D4.75\",\"% of Bitumen\"])"
   ]
  },
  {
   "cell_type": "code",
   "execution_count": 7,
   "metadata": {},
   "outputs": [],
   "source": [
    "a=model_flow.predict(x_flow)"
   ]
  },
  {
   "cell_type": "code",
   "execution_count": 9,
   "metadata": {},
   "outputs": [],
   "source": [
    "data[\"Marshal flow\"] = a\n",
    "data.to_csv(\"predictions.csv\", index=False)"
   ]
  },
  {
   "cell_type": "code",
   "execution_count": 10,
   "metadata": {},
   "outputs": [],
   "source": [
    "b=model_stability.predict(x_stability)"
   ]
  },
  {
   "cell_type": "code",
   "execution_count": 12,
   "metadata": {},
   "outputs": [],
   "source": [
    "data[\"Marshal stability\"] = b\n",
    "data.to_csv(\"predictions.csv\", index=False)"
   ]
  },
  {
   "cell_type": "code",
   "execution_count": null,
   "metadata": {},
   "outputs": [],
   "source": []
  }
 ],
 "metadata": {
  "kernelspec": {
   "display_name": "Python 3",
   "language": "python",
   "name": "python3"
  },
  "language_info": {
   "codemirror_mode": {
    "name": "ipython",
    "version": 3
   },
   "file_extension": ".py",
   "mimetype": "text/x-python",
   "name": "python",
   "nbconvert_exporter": "python",
   "pygments_lexer": "ipython3",
   "version": "3.6.9"
  }
 },
 "nbformat": 4,
 "nbformat_minor": 4
}
