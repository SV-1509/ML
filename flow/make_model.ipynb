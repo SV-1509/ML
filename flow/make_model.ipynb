{
 "cells": [
  {
   "cell_type": "code",
   "execution_count": 1,
   "metadata": {},
   "outputs": [],
   "source": [
    "import pandas as pd\n",
    "import numpy as np\n",
    "from joblib import dump\n",
    "from sklearn import linear_model,tree,neighbors\n",
    "from sklearn.model_selection import train_test_split\n",
    "from sklearn.metrics import r2_score,mean_squared_error,median_absolute_error\n"
   ]
  },
  {
   "cell_type": "code",
   "execution_count": 2,
   "metadata": {},
   "outputs": [
    {
     "data": {
      "text/html": [
       "<div>\n",
       "<style scoped>\n",
       "    .dataframe tbody tr th:only-of-type {\n",
       "        vertical-align: middle;\n",
       "    }\n",
       "\n",
       "    .dataframe tbody tr th {\n",
       "        vertical-align: top;\n",
       "    }\n",
       "\n",
       "    .dataframe thead th {\n",
       "        text-align: right;\n",
       "    }\n",
       "</style>\n",
       "<table border=\"1\" class=\"dataframe\">\n",
       "  <thead>\n",
       "    <tr style=\"text-align: right;\">\n",
       "      <th></th>\n",
       "      <th>A16</th>\n",
       "      <th>B12.5</th>\n",
       "      <th>C9.5</th>\n",
       "      <th>D4.75</th>\n",
       "      <th>E2.36</th>\n",
       "      <th>F0.6</th>\n",
       "      <th>G0.212</th>\n",
       "      <th>H0.075</th>\n",
       "      <th>Penetration</th>\n",
       "      <th>Softening point</th>\n",
       "      <th>Ductility</th>\n",
       "      <th>% of Bitumen</th>\n",
       "      <th>Marshall ﬂow</th>\n",
       "      <th>Marshall stability</th>\n",
       "    </tr>\n",
       "  </thead>\n",
       "  <tbody>\n",
       "    <tr>\n",
       "      <th>0</th>\n",
       "      <td>100</td>\n",
       "      <td>100.0</td>\n",
       "      <td>100.0</td>\n",
       "      <td>100.0</td>\n",
       "      <td>100.0</td>\n",
       "      <td>76.37</td>\n",
       "      <td>52.6</td>\n",
       "      <td>42.12</td>\n",
       "      <td>67</td>\n",
       "      <td>52</td>\n",
       "      <td>77</td>\n",
       "      <td>13.04</td>\n",
       "      <td>4.25</td>\n",
       "      <td>6.086</td>\n",
       "    </tr>\n",
       "    <tr>\n",
       "      <th>1</th>\n",
       "      <td>100</td>\n",
       "      <td>100.0</td>\n",
       "      <td>100.0</td>\n",
       "      <td>100.0</td>\n",
       "      <td>100.0</td>\n",
       "      <td>76.37</td>\n",
       "      <td>52.6</td>\n",
       "      <td>42.12</td>\n",
       "      <td>67</td>\n",
       "      <td>52</td>\n",
       "      <td>77</td>\n",
       "      <td>13.79</td>\n",
       "      <td>2.25</td>\n",
       "      <td>3.843</td>\n",
       "    </tr>\n",
       "    <tr>\n",
       "      <th>2</th>\n",
       "      <td>100</td>\n",
       "      <td>91.2</td>\n",
       "      <td>64.3</td>\n",
       "      <td>31.9</td>\n",
       "      <td>25.4</td>\n",
       "      <td>15.20</td>\n",
       "      <td>12.1</td>\n",
       "      <td>10.10</td>\n",
       "      <td>42</td>\n",
       "      <td>71</td>\n",
       "      <td>104</td>\n",
       "      <td>5.00</td>\n",
       "      <td>2.20</td>\n",
       "      <td>7.043</td>\n",
       "    </tr>\n",
       "    <tr>\n",
       "      <th>3</th>\n",
       "      <td>100</td>\n",
       "      <td>91.2</td>\n",
       "      <td>64.3</td>\n",
       "      <td>31.9</td>\n",
       "      <td>25.4</td>\n",
       "      <td>15.20</td>\n",
       "      <td>12.1</td>\n",
       "      <td>10.10</td>\n",
       "      <td>42</td>\n",
       "      <td>71</td>\n",
       "      <td>104</td>\n",
       "      <td>5.50</td>\n",
       "      <td>2.80</td>\n",
       "      <td>9.172</td>\n",
       "    </tr>\n",
       "    <tr>\n",
       "      <th>4</th>\n",
       "      <td>100</td>\n",
       "      <td>91.2</td>\n",
       "      <td>64.3</td>\n",
       "      <td>31.9</td>\n",
       "      <td>25.4</td>\n",
       "      <td>15.20</td>\n",
       "      <td>12.1</td>\n",
       "      <td>10.10</td>\n",
       "      <td>42</td>\n",
       "      <td>71</td>\n",
       "      <td>104</td>\n",
       "      <td>6.00</td>\n",
       "      <td>3.13</td>\n",
       "      <td>9.977</td>\n",
       "    </tr>\n",
       "  </tbody>\n",
       "</table>\n",
       "</div>"
      ],
      "text/plain": [
       "   A16  B12.5   C9.5  D4.75  E2.36   F0.6  G0.212  H0.075  Penetration  \\\n",
       "0  100  100.0  100.0  100.0  100.0  76.37    52.6   42.12           67   \n",
       "1  100  100.0  100.0  100.0  100.0  76.37    52.6   42.12           67   \n",
       "2  100   91.2   64.3   31.9   25.4  15.20    12.1   10.10           42   \n",
       "3  100   91.2   64.3   31.9   25.4  15.20    12.1   10.10           42   \n",
       "4  100   91.2   64.3   31.9   25.4  15.20    12.1   10.10           42   \n",
       "\n",
       "   Softening point  Ductility  % of Bitumen  Marshall ﬂow  Marshall stability  \n",
       "0               52         77         13.04          4.25               6.086  \n",
       "1               52         77         13.79          2.25               3.843  \n",
       "2               71        104          5.00          2.20               7.043  \n",
       "3               71        104          5.50          2.80               9.172  \n",
       "4               71        104          6.00          3.13               9.977  "
      ]
     },
     "execution_count": 2,
     "metadata": {},
     "output_type": "execute_result"
    }
   ],
   "source": [
    "data = pd.read_csv(\"flow.csv\") \n",
    "data.head()"
   ]
  },
  {
   "cell_type": "code",
   "execution_count": 3,
   "metadata": {},
   "outputs": [],
   "source": [
    "d1=pd.DataFrame(data=data ,columns=[\"A16\",\"B12.5\",\"C9.5\",\"D4.75\",\"E2.36\",\"F0.6\",\"G0.212\",\"H0.075\",\"Penetration\",\"Softening point\",\"Ductility\",\"% of Bitumen\",\"Marshall ﬂow\"])\n",
    "d2=pd.DataFrame(data=data ,columns=[\"A16\",\"B12.5\",\"C9.5\",\"D4.75\",\"E2.36\",\"F0.6\",\"G0.212\",\"H0.075\",\"Penetration\",\"Softening point\",\"Ductility\",\"% of Bitumen\",\"Marshall stability\"])"
   ]
  },
  {
   "cell_type": "code",
   "execution_count": 4,
   "metadata": {},
   "outputs": [],
   "source": [
    "x_flow = pd.DataFrame(data=data ,columns=[\"B12.5\",\"C9.5\",\"D4.75\",\"% of Bitumen\"])\n",
    "y_flow = y = pd.DataFrame(data=data ,columns=[\"Marshall ﬂow\"])"
   ]
  },
  {
   "cell_type": "code",
   "execution_count": 5,
   "metadata": {},
   "outputs": [],
   "source": [
    "x_stability = pd.DataFrame(data=data ,columns=[\"D4.75\",\"E2.36\",\"F0.6\",\"G0.212\",\"% of Bitumen\"])\n",
    "y_stability = pd.DataFrame(data=data ,columns=[\"Marshall stability\"])"
   ]
  },
  {
   "cell_type": "code",
   "execution_count": 6,
   "metadata": {},
   "outputs": [
    {
     "name": "stdout",
     "output_type": "stream",
     "text": [
      "R2 score = 0.6761745498230415 \n",
      "Root mean squared error = 0.19783756656591217 \n",
      "median absolute error =0.12807318008954782\n"
     ]
    }
   ],
   "source": [
    "X_train, X_test, y_train, y_test = train_test_split(x_flow, y_flow, test_size=0.2)\n",
    "model_f = linear_model.LinearRegression()\n",
    "model_f.fit(X_train, y_train)\n",
    "y_pred = model_f.predict(X_test)\n",
    "r2 = r2_score(y_test, y_pred)\n",
    "rmse = mean_squared_error(y_test, y_pred,squared=False)\n",
    "me = median_absolute_error(y_test, y_pred)\n",
    "print(\"R2 score = {} \\nRoot mean squared error = {} \\nmedian absolute error ={}\".format(r2,rmse,me)) "
   ]
  },
  {
   "cell_type": "code",
   "execution_count": 7,
   "metadata": {},
   "outputs": [
    {
     "name": "stdout",
     "output_type": "stream",
     "text": [
      "R2 score = 0.35915678028021847 \n",
      "Root mean squared error = 1.437699004196173 \n",
      "median absolute error=1.1146000000000011\n"
     ]
    }
   ],
   "source": [
    "X_train, X_test, y_train, y_test = train_test_split(x_stability, y_stability, test_size=0.2)\n",
    "model_s= neighbors.KNeighborsRegressor()\n",
    "model_s.fit(X_train, y_train)\n",
    "y_pred = model_s.predict(X_test)\n",
    "r2 = r2_score(y_test, y_pred)\n",
    "rmse = mean_squared_error(y_test, y_pred,squared=False)\n",
    "me = median_absolute_error(y_test, y_pred)\n",
    "print(\"R2 score = {} \\nRoot mean squared error = {} \\nmedian absolute error={}\".format(r2,rmse,me)) "
   ]
  },
  {
   "cell_type": "code",
   "execution_count": 8,
   "metadata": {},
   "outputs": [
    {
     "data": {
      "text/plain": [
       "['stability.joblib']"
      ]
     },
     "execution_count": 8,
     "metadata": {},
     "output_type": "execute_result"
    }
   ],
   "source": [
    "dump(model_f, 'flow.joblib')\n",
    "dump(model_s, 'stability.joblib')"
   ]
  },
  {
   "cell_type": "code",
   "execution_count": null,
   "metadata": {},
   "outputs": [],
   "source": []
  }
 ],
 "metadata": {
  "kernelspec": {
   "display_name": "Python 3",
   "language": "python",
   "name": "python3"
  },
  "language_info": {
   "codemirror_mode": {
    "name": "ipython",
    "version": 3
   },
   "file_extension": ".py",
   "mimetype": "text/x-python",
   "name": "python",
   "nbconvert_exporter": "python",
   "pygments_lexer": "ipython3",
   "version": "3.6.9"
  }
 },
 "nbformat": 4,
 "nbformat_minor": 4
}
