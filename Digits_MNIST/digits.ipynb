{
 "cells": [
  {
   "cell_type": "code",
   "execution_count": null,
   "metadata": {
    "scrolled": true
   },
   "outputs": [],
   "source": [
    "import tensorflow as tf\n",
    "from tensorflow import keras\n",
    "import numpy as np\n",
    "import matplotlib.pyplot as plt\n",
    "import seaborn as sn\n",
    "import pandas as pd\n",
    "plt.style.use('classic')\n",
    "%matplotlib inline"
   ]
  },
  {
   "cell_type": "code",
   "execution_count": null,
   "metadata": {
    "scrolled": true
   },
   "outputs": [],
   "source": [
    "mnist = keras.datasets.mnist\n",
    "\n",
    "(train_images, train_labels), (test_images, test_labels) = mnist.load_data()"
   ]
  },
  {
   "cell_type": "code",
   "execution_count": null,
   "metadata": {},
   "outputs": [],
   "source": [
    "train_images = train_images / 255.0\n",
    "\n",
    "test_images = test_images / 255.0"
   ]
  },
  {
   "cell_type": "code",
   "execution_count": null,
   "metadata": {},
   "outputs": [],
   "source": [
    "actfn=[\"relu\",\"sigmoid\",\"softmax\",\"softplus\",\"softsign\",\"tanh\",\"selu\",\"elu\",\"exponential\"]\n",
    "opt=[\"SGD\",\"RMSprop\",\"Adam\",\"Adadelta\",\"Adagrad\",\"Adamax\",\"Nadam\"]\n",
    "ac=[]"
   ]
  },
  {
   "cell_type": "code",
   "execution_count": null,
   "metadata": {
    "scrolled": true
   },
   "outputs": [],
   "source": [
    "k=0\n",
    "for i in actfn:\n",
    "    act=[]\n",
    "    v=0\n",
    "    for j in opt:\n",
    "        \n",
    "      \n",
    "        print((k*len(opt)+v+1),\"out of \",(len(opt)*len(actfn)))\n",
    "        v+=1\n",
    "        model = keras.Sequential([\n",
    "            keras.layers.Flatten(input_shape=(28, 28)),\n",
    "            keras.layers.Dense(128, activation=i),\n",
    "            keras.layers.Dense(10)\n",
    "        ])\n",
    "\n",
    "        model.compile(optimizer=j,\n",
    "                      loss=tf.keras.losses.SparseCategoricalCrossentropy(from_logits=True),\n",
    "                      metrics=['accuracy'])\n",
    "\n",
    "        model.fit(train_images, train_labels, epochs=10)\n",
    "\n",
    "        test_loss, test_acc = model.evaluate(test_images,  test_labels, verbose=2)\n",
    "        act.append(test_acc)\n",
    "    k+=1\n",
    "\n",
    "    ac.append(act)\n",
    "    "
   ]
  },
  {
   "cell_type": "code",
   "execution_count": null,
   "metadata": {},
   "outputs": [],
   "source": [
    "df_cm = pd.DataFrame(ac,actfn,opt)\n",
    "plt.figure(figsize=(16,18))\n",
    "sn.set(font_scale=1) \n",
    "sn.heatmap(df_cm,cmap=\"Blues\", annot=True, annot_kws={\"size\": 16}) \n",
    "plt.xlabel(\"Optimisers\")\n",
    "plt.ylabel(\"Activation Functions\")\n",
    "plt.show()"
   ]
  },
  {
   "cell_type": "code",
   "execution_count": null,
   "metadata": {},
   "outputs": [],
   "source": []
  }
 ],
 "metadata": {
  "kernelspec": {
   "display_name": "Python 3",
   "language": "python",
   "name": "python3"
  },
  "language_info": {
   "codemirror_mode": {
    "name": "ipython",
    "version": 3
   },
   "file_extension": ".py",
   "mimetype": "text/x-python",
   "name": "python",
   "nbconvert_exporter": "python",
   "pygments_lexer": "ipython3",
   "version": "3.6.9"
  }
 },
 "nbformat": 4,
 "nbformat_minor": 4
}
